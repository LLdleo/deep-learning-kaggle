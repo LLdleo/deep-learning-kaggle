{
 "cells": [
  {
   "cell_type": "code",
   "execution_count": 8,
   "metadata": {},
   "outputs": [],
   "source": [
    "import numpy as np\n",
    "import torch\n",
    "import torch.nn as nn\n",
    "import torch.nn.functional as F\n",
    "import csv\n",
    "import os"
   ]
  },
  {
   "cell_type": "code",
   "execution_count": 136,
   "metadata": {},
   "outputs": [],
   "source": [
    "class wsj_data():\n",
    "    def __init__(self, wsj_path):\n",
    "        self.wsj_path = wsj_path\n",
    "        self.dev_set = None\n",
    "        self.train_set = None\n",
    "        self.test_set = None\n",
    "\n",
    "    @property\n",
    "    def dev(self):\n",
    "        if self.dev_set is None:\n",
    "            self.dev_set = self.load('dev')\n",
    "        return self.dev_set\n",
    "\n",
    "    @property\n",
    "    def train(self):\n",
    "        if self.train_set is None:\n",
    "            self.train_set = self.load('train')\n",
    "        return self.train_set\n",
    "\n",
    "    @property\n",
    "    def test(self):\n",
    "        if self.test_set is None:\n",
    "            self.test_set = np.load(os.path.join(self.wsj_path, '{}.npy'.format('test')), encoding='bytes', allow_pickle=True)\n",
    "        return (self.test_set, )\n",
    "\n",
    "    def load(self, name):\n",
    "        return (\n",
    "            np.load(self.wsj_path+'/{}.npy'.format(name), encoding='bytes', allow_pickle=True),\n",
    "            np.load(self.wsj_path+'/{}_labels.npy'.format(name), encoding='bytes', allow_pickle=True)\n",
    "        )"
   ]
  },
  {
   "cell_type": "code",
   "execution_count": 10,
   "metadata": {},
   "outputs": [],
   "source": [
    "class WsjDataset(torch.utils.data.Dataset):\n",
    "    def __init__(self, wsj, k=10):\n",
    "\n",
    "        self.x_list = wsj[0]\n",
    "        self.y_list = wsj[1] if len(wsj) == 2 else None\n",
    "        self.idx_map = []\n",
    "        self.k = k\n",
    "\n",
    "        for i, xs in enumerate(self.x_list):\n",
    "            for j in range(xs.shape[0]):\n",
    "                self.idx_map.append((i, j))\n",
    "\n",
    "    def __getitem__(self, idx):\n",
    "        i, j = self.idx_map[idx]\n",
    "        win = self.x_list[i].take(range(j - self.k, j + self.k + 1), mode='clip', axis=0).flatten()\n",
    "        xi = torch.from_numpy(win).float()\n",
    "        yi = self.y_list[i][j] if self.y_list is not None else -1\n",
    "        return xi, yi\n",
    "\n",
    "    def __len__(self):\n",
    "        return len(self.idx_map)"
   ]
  },
  {
   "cell_type": "code",
   "execution_count": 127,
   "metadata": {},
   "outputs": [
    {
     "name": "stdout",
     "output_type": "stream",
     "text": [
      "torch.Size([256, 21])\n",
      "torch.Size([])\n",
      "torch.Size([256, 21])\n",
      "torch.Size([])\n",
      "torch.Size([256, 21])\n",
      "torch.Size([])\n",
      "torch.Size([256, 21])\n",
      "torch.Size([])\n",
      "torch.Size([256, 21])\n",
      "torch.Size([])\n",
      "torch.Size([256, 21])\n",
      "torch.Size([])\n",
      "torch.Size([256, 21])\n",
      "torch.Size([])\n",
      "torch.Size([256, 21])\n",
      "torch.Size([])\n",
      "torch.Size([256, 21])\n",
      "torch.Size([])\n",
      "torch.Size([256, 21])\n",
      "torch.Size([])\n",
      "torch.Size([256, 21])\n",
      "torch.Size([])\n"
     ]
    }
   ],
   "source": [
    "for batch_idx, (data, target) in enumerate(test_loader):\n",
    "    if batch_idx <= 10:\n",
    "        print(data.shape)\n",
    "        print(data[0][0].shape)"
   ]
  },
  {
   "cell_type": "code",
   "execution_count": null,
   "metadata": {},
   "outputs": [],
   "source": [
    "# Unit Test for WsjDataset Class\n",
    "test_wsj_dataset = WsjDataset(wsj_loader.dev)\n",
    "xi, yi = test_wsj_dataset.__getitem()__\n",
    "print(xi.shape, yi.shape)\n",
    "print\n",
    "print(\"the current frame data = \" xi[400:441])\n",
    "print(\"the label = \" yi)"
   ]
  },
  {
   "cell_type": "code",
   "execution_count": 52,
   "metadata": {},
   "outputs": [
    {
     "name": "stdout",
     "output_type": "stream",
     "text": [
      "(torch.Size([256, 840]), torch.Size([256]))\n",
      "(torch.Size([256, 840]), torch.Size([256]))\n",
      "(torch.Size([256, 840]), torch.Size([256]))\n",
      "(torch.Size([256, 840]), torch.Size([256]))\n",
      "(torch.Size([256, 840]), torch.Size([256]))\n",
      "(torch.Size([256, 840]), torch.Size([256]))\n",
      "(torch.Size([256, 840]), torch.Size([256]))\n",
      "(torch.Size([256, 840]), torch.Size([256]))\n",
      "(torch.Size([256, 840]), torch.Size([256]))\n",
      "(torch.Size([256, 840]), torch.Size([256]))\n",
      "(torch.Size([256, 840]), torch.Size([256]))\n"
     ]
    }
   ],
   "source": [
    "for batch, (data,target) in enumerate(training_loader):\n",
    "    print((data.shape,  target.shape))\n",
    "    if batch == 10:\n",
    "        break"
   ]
  },
  {
   "cell_type": "code",
   "execution_count": 137,
   "metadata": {},
   "outputs": [],
   "source": [
    "wsj_loader = wsj_data('./data')\n",
    "kwargs = {'num_workers': 8, 'pin_memory': True}\n",
    "\n",
    "training_loader = torch.utils.data.DataLoader(WsjDataset(wsj_loader.train),\n",
    "                                              batch_size=256,\n",
    "                                              shuffle=True,\n",
    "                                              **kwargs)\n",
    "eval_loader = torch.utils.data.DataLoader(WsjDataset(wsj_loader.dev),\n",
    "                                          batch_size=256,\n",
    "                                          shuffle=True,\n",
    "                                          **kwargs)\n",
    "test_loader = torch.utils.data.DataLoader(WsjDataset(wsj_loader.test),\n",
    "                                          batch_size=256,\n",
    "                                          shuffle=False,\n",
    "                                          **kwargs)"
   ]
  },
  {
   "cell_type": "code",
   "execution_count": 57,
   "metadata": {},
   "outputs": [
    {
     "name": "stdout",
     "output_type": "stream",
     "text": [
      "WSJModel(\n",
      "  (fc1): Linear(in_features=840, out_features=1024, bias=True)\n",
      "  (bn1): BatchNorm1d(1024, eps=1e-05, momentum=0.1, affine=True, track_running_stats=True)\n",
      "  (fc2): Linear(in_features=1024, out_features=1024, bias=True)\n",
      "  (bn2): BatchNorm1d(1024, eps=1e-05, momentum=0.1, affine=True, track_running_stats=True)\n",
      "  (fc3): Linear(in_features=1024, out_features=1024, bias=True)\n",
      "  (bn3): BatchNorm1d(1024, eps=1e-05, momentum=0.1, affine=True, track_running_stats=True)\n",
      "  (fc4): Linear(in_features=1024, out_features=1024, bias=True)\n",
      "  (bn4): BatchNorm1d(1024, eps=1e-05, momentum=0.1, affine=True, track_running_stats=True)\n",
      "  (fc5): Linear(in_features=1024, out_features=138, bias=True)\n",
      "  (bn5): BatchNorm1d(138, eps=1e-05, momentum=0.1, affine=True, track_running_stats=True)\n",
      ")\n"
     ]
    }
   ],
   "source": [
    "in_size = 840\n",
    "out_size=138\n",
    "hidden = [1024, 1024, 1024, 1024, 1024]\n",
    "\n",
    "class WSJModel(nn.Module):\n",
    "    def __init__(self):\n",
    "        super(WSJModel, self).__init__()\n",
    "        self.fc1 = nn.Linear(in_size, hidden[0])\n",
    "        self.bn1 = nn.BatchNorm1d(hidden[0])\n",
    "        self.fc2 = nn.Linear(hidden[0], hidden[1])\n",
    "        self.bn2 = nn.BatchNorm1d(hidden[1])\n",
    "        self.fc3 = nn.Linear(hidden[1], hidden[2])\n",
    "        self.bn3 = nn.BatchNorm1d(hidden[2])\n",
    "        self.fc4 = nn.Linear(hidden[2], hidden[3])\n",
    "        self.bn4 = nn.BatchNorm1d(hidden[3])\n",
    "        self.fc5 = nn.Linear(hidden[3], hidden[4])\n",
    "#         self.bn5 = nn.BatchNorm1d(hidden[4])\n",
    "        self.fc5 = nn.Linear(hidden[4], out_size)\n",
    "#         self.bn5 = nn.BatchNorm1d(out_size)\n",
    "    \n",
    "    def forward(self, x):\n",
    "        x = F.relu(self.bn1(self.fc1(x)))\n",
    "        x = F.relu(self.bn2(self.fc2(x)))\n",
    "        x = F.relu(self.bn3(self.fc3(x)))\n",
    "        x = F.relu(self.bn4(self.fc4(x)))\n",
    "        x = self.fc5(x)\n",
    "        return x\n",
    "    \n",
    "print(WSJModel())"
   ]
  },
  {
   "cell_type": "code",
   "execution_count": 89,
   "metadata": {},
   "outputs": [],
   "source": [
    "def inference(model, loader):\n",
    "    correct = 0\n",
    "    model.eval()\n",
    "    n_members = 0\n",
    "    for data, label in loader:\n",
    "        X = data.cuda()\n",
    "        Y = label.cuda()\n",
    "        out = model(X)\n",
    "        pred = out.data.max(1, keepdim=True)[1]\n",
    "        predicted = pred.eq(Y.data.view_as(pred))\n",
    "        correct += predicted.sum()\n",
    "        # overall data\n",
    "        n_members += predicted.size()[0]\n",
    "    return correct.cpu().numpy() / n_members"
   ]
  },
  {
   "cell_type": "code",
   "execution_count": 140,
   "metadata": {},
   "outputs": [],
   "source": [
    "def final_test(model, loader, filename):\n",
    "    print('start')\n",
    "    for i, (data, label) in enumerate(loader):\n",
    "        data = data.cuda()\n",
    "        out = model(data)\n",
    "        pred = out.data.max(1, keepdim=True)[1].cpu().numpy()\n",
    "        if i == 0:\n",
    "            test_result = pred\n",
    "        else:\n",
    "            test_result = np.concatenate((test_result, pred), axis=0)\n",
    "    test_result_index = np.arange(test_result.shape[0]).reshape((test_result.shape[0], 1))\n",
    "    test_result = np.concatenate((test_result_index, test_result), axis=1)\n",
    "    np.savetxt(filename + '.csv', test_result, delimiter=',', fmt='%d', header='id,label')\n",
    "    print(\"finish the csv prediction file\")"
   ]
  },
  {
   "cell_type": "code",
   "execution_count": 93,
   "metadata": {},
   "outputs": [
    {
     "data": {
      "text/plain": [
       "[<matplotlib.lines.Line2D at 0x7fba1c171630>]"
      ]
     },
     "execution_count": 93,
     "metadata": {},
     "output_type": "execute_result"
    },
    {
     "data": {
      "image/png": "[encoded data removed]",
      "text/plain": [
       "<Figure size 432x288 with 1 Axes>"
      ]
     },
     "metadata": {},
     "output_type": "display_data"
    }
   ],
   "source": [
    "import matplotlib.pyplot as plt\n",
    "%matplotlib inline\n",
    "plt.plot(np.arange(10))"
   ]
  },
  {
   "cell_type": "code",
   "execution_count": 111,
   "metadata": {},
   "outputs": [
    {
     "name": "stdout",
     "output_type": "stream",
     "text": [
      "hahahah\n"
     ]
    },
    {
     "name": "stderr",
     "output_type": "stream",
     "text": [
      "/home/ubuntu/anaconda3/envs/pytorch_p36/lib/python3.6/site-packages/ipykernel_launcher.py:24: RuntimeWarning: divide by zero encountered in true_divide\n"
     ]
    },
    {
     "name": "stdout",
     "output_type": "stream",
     "text": [
      "epoch: 1, batch: 0, correctness: inf, loss: 1.576\n",
      "epoch: 1, batch: 5000, correctness: 0.626, loss: 1.308\n",
      "epoch: 1, batch: 10000, correctness: 0.625, loss: 1.676\n",
      "epoch: 1, batch: 15000, correctness: 0.625, loss: 1.463\n",
      "epoch: 1, batch: 20000, correctness: 0.625, loss: 1.590\n",
      "epoch: 1, batch: 25000, correctness: 0.625, loss: 1.505\n",
      "epoch: 1, batch: 30000, correctness: 0.625, loss: 1.286\n",
      "epoch: 1, batch: 35000, correctness: 0.625, loss: 1.509\n",
      "epoch: 1, batch: 40000, correctness: 0.625, loss: 1.563\n",
      "epoch: 1, batch: 45000, correctness: 0.625, loss: 1.305\n",
      "epoch: 1, batch: 50000, correctness: 0.626, loss: 1.418\n",
      "epoch: 1, batch: 55000, correctness: 0.626, loss: 1.499\n",
      "epoch: 1, batch: 60000, correctness: 0.626, loss: 1.243\n"
     ]
    },
    {
     "data": {
      "image/png": "[encoded data removed]",
      "text/plain": [
       "<Figure size 432x288 with 1 Axes>"
      ]
     },
     "metadata": {},
     "output_type": "display_data"
    },
    {
     "name": "stdout",
     "output_type": "stream",
     "text": [
      "Ephoch:1 end\n",
      "epoch: 1, loss: 1.394, train_acc: 0.626, val_acc: 0.616\n",
      "epoch: 2, batch: 0, correctness: inf, loss: 1.385\n",
      "epoch: 2, batch: 5000, correctness: 0.626, loss: 1.424\n"
     ]
    },
    {
     "ename": "KeyboardInterrupt",
     "evalue": "",
     "output_type": "error",
     "traceback": [
      "\u001b[0;31m---------------------------------------------------------------------------\u001b[0m",
      "\u001b[0;31mKeyboardInterrupt\u001b[0m                         Traceback (most recent call last)",
      "\u001b[0;32m<ipython-input-111-f2242a53aa38>\u001b[0m in \u001b[0;36m<module>\u001b[0;34m()\u001b[0m\n\u001b[1;32m     32\u001b[0m \u001b[0;34m\u001b[0m\u001b[0m\n\u001b[1;32m     33\u001b[0m         \u001b[0mSGDOptimizer\u001b[0m\u001b[0;34m.\u001b[0m\u001b[0mstep\u001b[0m\u001b[0;34m(\u001b[0m\u001b[0;34m)\u001b[0m\u001b[0;34m\u001b[0m\u001b[0m\n\u001b[0;32m---> 34\u001b[0;31m         \u001b[0mepoch_loss\u001b[0m \u001b[0;34m+=\u001b[0m \u001b[0mloss\u001b[0m\u001b[0;34m.\u001b[0m\u001b[0mitem\u001b[0m\u001b[0;34m(\u001b[0m\u001b[0;34m)\u001b[0m\u001b[0;34m\u001b[0m\u001b[0m\n\u001b[0m\u001b[1;32m     35\u001b[0m \u001b[0;34m\u001b[0m\u001b[0m\n\u001b[1;32m     36\u001b[0m         \u001b[0;32mif\u001b[0m \u001b[0mbatch_idx\u001b[0m \u001b[0;34m%\u001b[0m \u001b[0;36m5000\u001b[0m \u001b[0;34m==\u001b[0m \u001b[0;36m0\u001b[0m\u001b[0;34m:\u001b[0m\u001b[0;34m\u001b[0m\u001b[0m\n",
      "\u001b[0;31mKeyboardInterrupt\u001b[0m: "
     ]
    }
   ],
   "source": [
    "print('hahahah')\n",
    "n_epochs = 8\n",
    "my_model = WSJModel()\n",
    "my_model.load_state_dict(torch.load('./no_bn_model.pt'))\n",
    "my_model.cuda()\n",
    "SGDOptimizer = torch.optim.SGD(my_model.parameters(), lr=0.001)\n",
    "ADAMOptimizer = torch.optim.Adam(my_model.parameters(), lr=0.00001)\n",
    "loss_list = []\n",
    "\n",
    "for e in range(n_epochs):\n",
    "    loss_denominate = 0\n",
    "    my_model.train()\n",
    "    epoch_loss = 0\n",
    "    correct = 0\n",
    "    for batch_idx, (data, label) in enumerate(training_loader):\n",
    "        SGDOptimizer.zero_grad()\n",
    "        data = data.cuda()\n",
    "        label = label.cuda()\n",
    "        out = my_model(data)\n",
    "        \n",
    "        pred = out.data.max(1, keepdim=True)[1]\n",
    "        predicted = pred.eq(label.data.view_as(pred))\n",
    "        correct += predicted.sum()\n",
    "        correctness =  correct.cpu().detach().numpy()/ (batch_idx * 256)\n",
    "        \n",
    "        loss = F.cross_entropy(out, label)\n",
    "        loss_denominate += 1\n",
    "        \n",
    "        print_loss = loss.cpu().detach().numpy()\n",
    "        loss_list.append(print_loss)\n",
    "        loss.backward()\n",
    "\n",
    "        SGDOptimizer.step()\n",
    "        epoch_loss += loss.item()\n",
    "\n",
    "        if batch_idx % 5000 == 0:\n",
    "            print(\"epoch: {0}, batch: {1}, correctness: {2:.3f}, loss: {3:.3f}\".format(e + 1, batch_idx, correctness, print_loss))\n",
    "    \n",
    "    torch.save(my_model.state_dict(), './no_bn_model.pt')\n",
    "    plt.figure()\n",
    "    plt.plot(loss_list)\n",
    "    plt.show()\n",
    "    total_loss = epoch_loss / loss_denominate\n",
    "\n",
    "    train_acc = correct.cpu().detach().numpy() / (loss_denominate * 256)\n",
    "    val_acc = inference(my_model, eval_loader)\n",
    "    print(\"Ephoch:{0} end\".format(e + 1))\n",
    "    print(\"epoch: {0}, loss: {1:.3f}, train_acc: {2:.3f}, val_acc: {3:.3f}\".format(e + 1, total_loss, train_acc, val_acc))\n",
    "    "
   ]
  },
  {
   "cell_type": "code",
   "execution_count": 128,
   "metadata": {},
   "outputs": [
    {
     "name": "stdout",
     "output_type": "stream",
     "text": [
      "0.6155369054030859\n"
     ]
    }
   ],
   "source": [
    "my_model = WSJModel()\n",
    "my_model.load_state_dict(torch.load('./no_bn_model.pt'))\n",
    "my_model.cuda()\n",
    "val_acc = inference(my_model, eval_loader)\n",
    "print(val_acc)"
   ]
  },
  {
   "cell_type": "code",
   "execution_count": 141,
   "metadata": {},
   "outputs": [
    {
     "name": "stdout",
     "output_type": "stream",
     "text": [
      "start\n",
      "finish the csv prediction file\n"
     ]
    }
   ],
   "source": [
    "final_test(my_model, test_loader,'6.1024output')"
   ]
  },
  {
   "cell_type": "code",
   "execution_count": null,
   "metadata": {},
   "outputs": [],
   "source": []
  }
 ],
 "metadata": {
  "kernelspec": {
   "display_name": "Python [conda env:pytorch_p36] *",
   "language": "python",
   "name": "conda-env-pytorch_p36-py"
  },
  "language_info": {
   "codemirror_mode": {
    "name": "ipython",
    "version": 3
   },
   "file_extension": ".py",
   "mimetype": "text/x-python",
   "name": "python",
   "nbconvert_exporter": "python",
   "pygments_lexer": "ipython3",
   "version": "3.6.5"
  }
 },
 "nbformat": 4,
 "nbformat_minor": 2
}
